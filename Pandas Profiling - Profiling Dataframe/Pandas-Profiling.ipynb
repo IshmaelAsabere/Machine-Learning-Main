{
 "cells": [
  {
   "cell_type": "code",
   "execution_count": 5,
   "metadata": {},
   "outputs": [],
   "source": [
    "# Import relevant libraries\n",
    "import pandas as pd\n",
    "import numpy as np\n",
    "from pandas_profiling import ProfileReport"
   ]
  },
  {
   "cell_type": "code",
   "execution_count": 3,
   "metadata": {},
   "outputs": [
    {
     "data": {
      "text/html": [
       "<div>\n",
       "<style scoped>\n",
       "    .dataframe tbody tr th:only-of-type {\n",
       "        vertical-align: middle;\n",
       "    }\n",
       "\n",
       "    .dataframe tbody tr th {\n",
       "        vertical-align: top;\n",
       "    }\n",
       "\n",
       "    .dataframe thead th {\n",
       "        text-align: right;\n",
       "    }\n",
       "</style>\n",
       "<table border=\"1\" class=\"dataframe\">\n",
       "  <thead>\n",
       "    <tr style=\"text-align: right;\">\n",
       "      <th></th>\n",
       "      <th>keep</th>\n",
       "      <th>rand</th>\n",
       "      <th>default</th>\n",
       "      <th>loan_amount</th>\n",
       "      <th>emp_length</th>\n",
       "      <th>home_ownership</th>\n",
       "      <th>income</th>\n",
       "      <th>loan_purpose</th>\n",
       "      <th>debt_to_income</th>\n",
       "      <th>credit_score</th>\n",
       "      <th>recent_inquiry</th>\n",
       "      <th>delinquent</th>\n",
       "      <th>credit_accounts</th>\n",
       "      <th>bad_public_record</th>\n",
       "      <th>credit_utilization</th>\n",
       "      <th>past_bankrupt</th>\n",
       "    </tr>\n",
       "  </thead>\n",
       "  <tbody>\n",
       "    <tr>\n",
       "      <th>0</th>\n",
       "      <td>1</td>\n",
       "      <td>0.130465</td>\n",
       "      <td>0</td>\n",
       "      <td>LOW</td>\n",
       "      <td>10+ years</td>\n",
       "      <td>RENT</td>\n",
       "      <td>LOW</td>\n",
       "      <td>credit_card</td>\n",
       "      <td>HIGH</td>\n",
       "      <td>AVERAGE</td>\n",
       "      <td>YES</td>\n",
       "      <td>NEVER</td>\n",
       "      <td>FEW</td>\n",
       "      <td>NO</td>\n",
       "      <td>HIGH</td>\n",
       "      <td>NO</td>\n",
       "    </tr>\n",
       "    <tr>\n",
       "      <th>1</th>\n",
       "      <td>1</td>\n",
       "      <td>0.998151</td>\n",
       "      <td>1</td>\n",
       "      <td>LOW</td>\n",
       "      <td>&lt; 2 years</td>\n",
       "      <td>RENT</td>\n",
       "      <td>LOW</td>\n",
       "      <td>car</td>\n",
       "      <td>LOW</td>\n",
       "      <td>AVERAGE</td>\n",
       "      <td>YES</td>\n",
       "      <td>NEVER</td>\n",
       "      <td>FEW</td>\n",
       "      <td>NO</td>\n",
       "      <td>LOW</td>\n",
       "      <td>NO</td>\n",
       "    </tr>\n",
       "    <tr>\n",
       "      <th>2</th>\n",
       "      <td>0</td>\n",
       "      <td>0.628276</td>\n",
       "      <td>0</td>\n",
       "      <td>LOW</td>\n",
       "      <td>10+ years</td>\n",
       "      <td>RENT</td>\n",
       "      <td>LOW</td>\n",
       "      <td>small_business</td>\n",
       "      <td>AVERAGE</td>\n",
       "      <td>AVERAGE</td>\n",
       "      <td>YES</td>\n",
       "      <td>NEVER</td>\n",
       "      <td>FEW</td>\n",
       "      <td>NO</td>\n",
       "      <td>HIGH</td>\n",
       "      <td>NO</td>\n",
       "    </tr>\n",
       "    <tr>\n",
       "      <th>3</th>\n",
       "      <td>0</td>\n",
       "      <td>0.252407</td>\n",
       "      <td>0</td>\n",
       "      <td>MEDIUM</td>\n",
       "      <td>10+ years</td>\n",
       "      <td>RENT</td>\n",
       "      <td>MEDIUM</td>\n",
       "      <td>other</td>\n",
       "      <td>HIGH</td>\n",
       "      <td>AVERAGE</td>\n",
       "      <td>YES</td>\n",
       "      <td>MORE THAN 2 YEARS AGO</td>\n",
       "      <td>AVERAGE</td>\n",
       "      <td>NO</td>\n",
       "      <td>LOW</td>\n",
       "      <td>NO</td>\n",
       "    </tr>\n",
       "  </tbody>\n",
       "</table>\n",
       "</div>"
      ],
      "text/plain": [
       "   keep      rand  default loan_amount emp_length home_ownership  income  \\\n",
       "0     1  0.130465        0         LOW  10+ years           RENT     LOW   \n",
       "1     1  0.998151        1         LOW  < 2 years           RENT     LOW   \n",
       "2     0  0.628276        0         LOW  10+ years           RENT     LOW   \n",
       "3     0  0.252407        0      MEDIUM  10+ years           RENT  MEDIUM   \n",
       "\n",
       "     loan_purpose debt_to_income credit_score recent_inquiry  \\\n",
       "0     credit_card           HIGH      AVERAGE            YES   \n",
       "1             car            LOW      AVERAGE            YES   \n",
       "2  small_business        AVERAGE      AVERAGE            YES   \n",
       "3           other           HIGH      AVERAGE            YES   \n",
       "\n",
       "              delinquent credit_accounts bad_public_record credit_utilization  \\\n",
       "0                  NEVER             FEW                NO               HIGH   \n",
       "1                  NEVER             FEW                NO                LOW   \n",
       "2                  NEVER             FEW                NO               HIGH   \n",
       "3  MORE THAN 2 YEARS AGO         AVERAGE                NO                LOW   \n",
       "\n",
       "  past_bankrupt  \n",
       "0            NO  \n",
       "1            NO  \n",
       "2            NO  \n",
       "3            NO  "
      ]
     },
     "execution_count": 3,
     "metadata": {},
     "output_type": "execute_result"
    }
   ],
   "source": [
    "data = pd.read_csv(\"loans.csv\")\n",
    "data.head(4)"
   ]
  },
  {
   "cell_type": "code",
   "execution_count": 6,
   "metadata": {},
   "outputs": [
    {
     "data": {
      "application/vnd.jupyter.widget-view+json": {
       "model_id": "b8c4d22a3e2f47d4bf95e9edea2507aa",
       "version_major": 2,
       "version_minor": 0
      },
      "text/plain": [
       "HBox(children=(FloatProgress(value=0.0, description='Summarize dataset', max=30.0, style=ProgressStyle(descrip…"
      ]
     },
     "metadata": {},
     "output_type": "display_data"
    },
    {
     "name": "stdout",
     "output_type": "stream",
     "text": [
      "\n"
     ]
    },
    {
     "data": {
      "application/vnd.jupyter.widget-view+json": {
       "model_id": "d7c471cd8d3347daa0187dc22e2f59a7",
       "version_major": 2,
       "version_minor": 0
      },
      "text/plain": [
       "HBox(children=(FloatProgress(value=0.0, description='Generate report structure', max=1.0, style=ProgressStyle(…"
      ]
     },
     "metadata": {},
     "output_type": "display_data"
    },
    {
     "name": "stdout",
     "output_type": "stream",
     "text": [
      "\n"
     ]
    },
    {
     "data": {
      "application/vnd.jupyter.widget-view+json": {
       "model_id": "924e7c29a3f2459b976d9a467d2bbaf8",
       "version_major": 2,
       "version_minor": 0
      },
      "text/plain": [
       "HBox(children=(FloatProgress(value=0.0, description='Render HTML', max=1.0, style=ProgressStyle(description_wi…"
      ]
     },
     "metadata": {},
     "output_type": "display_data"
    },
    {
     "name": "stdout",
     "output_type": "stream",
     "text": [
      "\n"
     ]
    },
    {
     "data": {
      "application/vnd.jupyter.widget-view+json": {
       "model_id": "f61c1a13986c43fc962d0e37b8b99dc9",
       "version_major": 2,
       "version_minor": 0
      },
      "text/plain": [
       "HBox(children=(FloatProgress(value=0.0, description='Export report to file', max=1.0, style=ProgressStyle(desc…"
      ]
     },
     "metadata": {},
     "output_type": "display_data"
    },
    {
     "name": "stdout",
     "output_type": "stream",
     "text": [
      "\n"
     ]
    }
   ],
   "source": [
    "prof = ProfileReport(data)\n",
    "prof.to_file(output_file='output.html')"
   ]
  },
  {
   "cell_type": "code",
   "execution_count": null,
   "metadata": {},
   "outputs": [],
   "source": [
    "# Pandas 0.23"
   ]
  }
 ],
 "metadata": {
  "kernelspec": {
   "display_name": "Python 3",
   "language": "python",
   "name": "python3"
  },
  "language_info": {
   "codemirror_mode": {
    "name": "ipython",
    "version": 3
   },
   "file_extension": ".py",
   "mimetype": "text/x-python",
   "name": "python",
   "nbconvert_exporter": "python",
   "pygments_lexer": "ipython3",
   "version": "3.6.10"
  }
 },
 "nbformat": 4,
 "nbformat_minor": 4
}
